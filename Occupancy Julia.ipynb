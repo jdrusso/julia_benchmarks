{
 "cells": [
  {
   "cell_type": "code",
   "execution_count": 138,
   "metadata": {},
   "outputs": [
    {
     "data": {
      "text/plain": [
       "build_occupancy_matrix (generic function with 4 methods)"
      ]
     },
     "execution_count": 138,
     "metadata": {},
     "output_type": "execute_result"
    }
   ],
   "source": [
    "function build_occupancy_matrix(\n",
    "        trajectories, \n",
    "        time_horizon, \n",
    "        absorbing, \n",
    "        N_BINS,\n",
    "        statesA=nothing,\n",
    "        statesB=nothing,\n",
    "        normalize=true\n",
    "    )\n",
    "    \n",
    "    occupancy_matrix = fill(0.0, (N_BINS, N_BINS))\n",
    "    \n",
    "    for traj in trajectories\n",
    "        \n",
    "        for (start_index, value) in enumerate(1:length(traj)-time_horizon)\n",
    "            \n",
    "            segment = traj[start_index:start_index + time_horizon]\n",
    "            \n",
    "#             display(segment)\n",
    "            \n",
    "            i = segment[1]\n",
    "            \n",
    "            for (step_idx, j) in enumerate(segment)\n",
    "                # Absorbing BCs\n",
    "                if absorbing && j in statesB\n",
    "                    \n",
    "                    \n",
    "#                     println(\"ABCs not yet implemented\")\n",
    "                    remaining_steps = length(segment[step_idx:end])\n",
    "                    occupancy_matrix[i+1, j+1] += remaining_steps\n",
    "                    break\n",
    "                    \n",
    "                # Non-absorbing BCs\n",
    "                else\n",
    "                    occupancy_matrix[i+1,j+1] += 1\n",
    "                end\n",
    "                \n",
    "            end\n",
    "        end\n",
    "    end\n",
    "\n",
    "#     display(occupancy_matrix)\n",
    "    \n",
    "    normed_occupancy_matrix = normalize_matrix(occupancy_matrix)\n",
    "    \n",
    "#     display(normed_occupancy_matrix)\n",
    "    \n",
    "end"
   ]
  },
  {
   "cell_type": "code",
   "execution_count": 139,
   "metadata": {},
   "outputs": [
    {
     "data": {
      "text/plain": [
       "normalize_matrix (generic function with 1 method)"
      ]
     },
     "execution_count": 139,
     "metadata": {},
     "output_type": "execute_result"
    }
   ],
   "source": [
    "function normalize_matrix(non_normed_matrix)\n",
    "\n",
    "    normed_matrix = non_normed_matrix ./ sum(non_normed_matrix,dims=2)\n",
    "    \n",
    "end"
   ]
  },
  {
   "cell_type": "code",
   "execution_count": 140,
   "metadata": {},
   "outputs": [],
   "source": [
    "trajectory = [1,2,3,3,3,1,0,1,1,1,2,1,2,3,3,3,1,0,1,1,1,2,1,2,3,3,3,1,0,1,1,1,2,1,2,3,3,3,1,0,1,1,1,2,1,2,3,3,3,1,0,1,1,1,2,1,2,3,3,3,1,0,1,1,1,2,1,2,3,3,3,1,0,1,1,1,2,1,2,3,3,3,1,0,1,1,1,2,1,2,3,3,3,1,0,1,1,1,2,1,2,3,3,3,1,0,1,1,1,2,1,2,3,3,3,1,0,1,1,1,2,1,2,3,3,3,1,0,1,1,1,2,1,2,3,3,3,1,0,1,1,1,2,1,2,3,3,3,1,0,1,1,1,2,1,2,3,3,3,1,0,1,1,1,2,1,2,3,3,3,1,0,1,1,1,2,1,2,3,3,3,1,0,1,1,1,2,1,2,3,3,3,1,0,1,1,1,2,1,2,3,3,3,1,0,1,1,1,2,1,2,3,3,3,1,0,1,1,1,2,1,2,3,3,3,1,0,1,1,1,2,1,2,3,3,3,1,0,1,1,1,2,1,2,3,3,3,1,0,1,1,1,2,1,2,3,3,3,1,0,1,1,1,2,1,2,3,3,3,1,0,1,1,1,2,1,2,3,3,3,1,0,1,1,1,2,1,2,3,3,3,1,0,1,1,1,2,1,2,3,3,3,1,0,1,1,1,2,1,2,3,3,3,1,0,1,1,1,2,1,2,3,3,3,1,0,1,1,1,2,1,2,3,3,3,1,0,1,1,1,2,1,2,3,3,3,1,0,1,1,1,2,1,2,3,3,3,1,0,1,1,1,2,1,2,3,3,3,1,0,1,1,1,2,1,2,3,3,3,1,0,1,1,1,2,1,2,3,3,3,1,0,1,1,1,2,1]\n",
    "trajectories = [trajectory, trajectory, trajectory, trajectory, trajectory, trajectory, trajectory, trajectory, trajectory, trajectory, trajectory, trajectory, trajectory, trajectory, trajectory, trajectory, trajectory, trajectory, trajectory, trajectory, trajectory, trajectory, trajectory, trajectory, trajectory, trajectory, trajectory, trajectory, trajectory, trajectory, trajectory, trajectory, trajectory, trajectory, trajectory, trajectory, trajectory, trajectory, trajectory, trajectory];"
   ]
  },
  {
   "cell_type": "code",
   "execution_count": 145,
   "metadata": {},
   "outputs": [
    {
     "data": {
      "text/plain": [
       "test_build (generic function with 1 method)"
      ]
     },
     "execution_count": 145,
     "metadata": {},
     "output_type": "execute_result"
    }
   ],
   "source": [
    "function test_build(n_iters)\n",
    "    for i in 1:n_iters\n",
    "        build_occupancy_matrix(trajectories, 4, false, 4)\n",
    "    end\n",
    "end"
   ]
  },
  {
   "cell_type": "code",
   "execution_count": 146,
   "metadata": {},
   "outputs": [
    {
     "name": "stdout",
     "output_type": "stream",
     "text": [
      "  1.105674 seconds (15.73 M allocations: 1.875 GiB, 23.91% gc time)\n"
     ]
    }
   ],
   "source": [
    "@time begin\n",
    "    test_build(1000)\n",
    "end"
   ]
  },
  {
   "cell_type": "code",
   "execution_count": null,
   "metadata": {},
   "outputs": [],
   "source": []
  }
 ],
 "metadata": {
  "kernelspec": {
   "display_name": "Julia 1.5.3",
   "language": "julia",
   "name": "julia-1.5"
  },
  "language_info": {
   "file_extension": ".jl",
   "mimetype": "application/julia",
   "name": "julia",
   "version": "1.5.3"
  }
 },
 "nbformat": 4,
 "nbformat_minor": 4
}
