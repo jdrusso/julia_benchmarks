{
 "cells": [
  {
   "cell_type": "code",
   "execution_count": 136,
   "metadata": {},
   "outputs": [
    {
     "data": {
      "text/plain": [
       "brute_force_mfpt (generic function with 1 method)"
      ]
     },
     "execution_count": 136,
     "metadata": {},
     "output_type": "execute_result"
    }
   ],
   "source": [
    "function brute_force_mfpt(trajectories, lag, statesA, statesB)\n",
    "    all_AB = Vector{Vector}()\n",
    "    all_BA = Vector{Vector}()\n",
    "    \n",
    "    # For each trajectory in trajectories\n",
    "    for trajectory in trajectories\n",
    "        \n",
    "        AB = Vector{Int}()\n",
    "        BA = Vector{Int}()\n",
    "        \n",
    "    \n",
    "        # For each start-index in range(lag) \n",
    "        for start_index in 1:lag\n",
    "\n",
    "            snippet = trajectory[start_index:lag:end]\n",
    "\n",
    "            # Now do the actual MFPT counting logic\n",
    "            \n",
    "            # An MFPT is defined as from when you enter the origin\n",
    "            #    to when you enter the target\n",
    "            last_in = -1\n",
    "            last_in_idx = 0\n",
    "            \n",
    "            for (idx, point) in enumerate(snippet)\n",
    "                \n",
    "#                 display(point)\n",
    "                \n",
    "                # Should never get here\n",
    "                if last_in_idx > idx\n",
    "                    throw(Exception)\n",
    "                    \n",
    "                # If you're just completing an A->B transit\n",
    "                elseif last_in in statesA && point in statesB\n",
    "                    \n",
    "#                     display(\"Transit A->B\")\n",
    "                    push!(AB, idx - last_in_idx)\n",
    "                    last_in_idx = idx\n",
    "                    last_in = point\n",
    "                    \n",
    "                # First time reaching a state?\n",
    "                elseif last_in == -1 && (point in statesA || point in statesB)\n",
    "                    \n",
    "#                     display(\"First state entry\")\n",
    "                    \n",
    "                    last_in = point\n",
    "                    last_in_idx = idx\n",
    "                    \n",
    "                # Just finish a B to A?\n",
    "                elseif last_in in statesB && point in statesA\n",
    "                    \n",
    "                    push!(BA, idx - last_in_idx)\n",
    "#                     display(\"Transit B->A\")\n",
    "                    last_in_idx = idx\n",
    "                    last_in = point\n",
    "                end\n",
    "                    \n",
    "            end\n",
    "        end\n",
    "            \n",
    "        push!(all_AB, AB)\n",
    "        push!(all_BA, BA)\n",
    "#         display(AB)\n",
    "    end\n",
    "    \n",
    "#     display(all_AB)\n",
    "#     display(all_BA)\n",
    "    \n",
    "    return all_AB, all_BA, lag\n",
    "end"
   ]
  },
  {
   "cell_type": "code",
   "execution_count": 146,
   "metadata": {},
   "outputs": [
    {
     "data": {
      "text/plain": [
       "1-element Array{Array{Int64,1},1}:\n",
       " [5, 3, 6, 6, 10, 1, 9, 2, 6, 10  …  6, 2, 4, 9, 4, 3, 2, 4, 3, 4]"
      ]
     },
     "execution_count": 146,
     "metadata": {},
     "output_type": "execute_result"
    }
   ],
   "source": [
    "random_traj = [rand(1:10,1000000)]"
   ]
  },
  {
   "cell_type": "code",
   "execution_count": 149,
   "metadata": {},
   "outputs": [
    {
     "name": "stdout",
     "output_type": "stream",
     "text": [
      "  0.009269 seconds (41 allocations: 9.631 MiB)\n"
     ]
    },
    {
     "data": {
      "text/plain": [
       "(Array{T,1} where T[[15, 6, 1, 2, 4, 8, 34, 8, 18, 2  …  23, 13, 1, 2, 8, 12, 12, 6, 8, 22]], Array{T,1} where T[[4, 1, 24, 10, 12, 12, 10, 10, 20, 25  …  8, 3, 10, 1, 1, 21, 1, 2, 5, 3]], 1)"
      ]
     },
     "execution_count": 149,
     "metadata": {},
     "output_type": "execute_result"
    }
   ],
   "source": [
    "@time begin\n",
    "brute_force_mfpt(random_traj, 1, [1], [3])\n",
    "end"
   ]
  },
  {
   "cell_type": "code",
   "execution_count": null,
   "metadata": {},
   "outputs": [],
   "source": []
  }
 ],
 "metadata": {
  "kernelspec": {
   "display_name": "Julia 1.5.3",
   "language": "julia",
   "name": "julia-1.5"
  },
  "language_info": {
   "file_extension": ".jl",
   "mimetype": "application/julia",
   "name": "julia",
   "version": "1.5.3"
  }
 },
 "nbformat": 4,
 "nbformat_minor": 4
}
